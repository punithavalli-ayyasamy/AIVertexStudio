{
 "cells": [
  {
   "cell_type": "markdown",
   "metadata": {},
   "source": [
    "# Test Deployed AutoML Models\n",
    "\n",
    "This notebook demonstrates how to:\n",
    "1. List and verify trained models\n",
    "2. List and verify model endpoints\n",
    "3. Make predictions using both vision and tabular models"
   ]
  },
  {
   "cell_type": "code",
   "execution_count": null,
   "metadata": {},
   "source": [
    "import os\n",
    "from google.cloud import aiplatform\n",
    "from google.cloud import storage\n",
    "import pandas as pd\n",
    "from PIL import Image\n",
    "import io\n",
    "\n",
    "# Configuration\n",
    "PROJECT_ID = \"386465169172\"\n",
    "REGION = \"us-central1\"\n",
    "BUCKET_NAME = \"qwiklabs-gcp-00-ffe6db11d36b-bucket\"\n",
    "\n",
    "# Initialize Vertex AI\n",
    "aiplatform.init(project=PROJECT_ID, location=REGION)"
   ]
  },
  {
   "cell_type": "markdown",
   "metadata": {},
   "source": [
    "## 1. List and Verify Trained Models"
   ]
  },
  {
   "cell_type": "code",
   "execution_count": null,
   "metadata": {},
   "source": [
    "def list_models():\n",
    "    \"\"\"List all models in the project\"\"\"\n",
    "    models = aiplatform.Model.list()\n",
    "    print(\"Available Models:\")\n",
    "    for model in models:\n",
    "        print(f\"\\nModel Name: {model.display_name}\")\n",
    "        print(f\"Resource Name: {model.resource_name}\")\n",
    "        print(f\"Create Time: {model.create_time}\")\n",
    "        \n",
    "list_models()"
   ]
  },
  {
   "cell_type": "markdown",
   "metadata": {},
   "source": [
    "## 2. List and Verify Model Endpoints"
   ]
  },
  {
   "cell_type": "code",
   "execution_count": null,
   "metadata": {},
   "source": [
    "def list_endpoints():\n",
    "    \"\"\"List all model endpoints in the project\"\"\"\n",
    "    endpoints = aiplatform.Endpoint.list()\n",
    "    print(\"Available Endpoints:\")\n",
    "    for endpoint in endpoints:\n",
    "        print(f\"\\nEndpoint Name: {endpoint.display_name}\")\n",
    "        print(f\"Resource Name: {endpoint.resource_name}\")\n",
    "        print(f\"Create Time: {endpoint.create_time}\")\n",
    "        \n",
    "list_endpoints()"
   ]
  },
  {
   "cell_type": "markdown",
   "metadata": {},
   "source": [
    "## 3. Test Vision Model Predictions"
   ]
  },
  {
   "cell_type": "code",
   "execution_count": null,
   "metadata": {},
   "source": [
    "def test_vision_model(endpoint_id, image_uri):\n",
    "    \"\"\"Test vision model with a sample image\n",
    "    \n",
    "    Args:\n",
    "        endpoint_id: The endpoint resource name\n",
    "        image_uri: GCS URI of the test image\n",
    "    \"\"\"\n",
    "    endpoint = aiplatform.Endpoint(endpoint_id)\n",
    "    \n",
    "    # Download image from GCS\n",
    "    storage_client = storage.Client()\n",
    "    bucket = storage_client.bucket(BUCKET_NAME)\n",
    "    blob = bucket.blob(image_uri.split(f'gs://{BUCKET_NAME}/')[-1])\n",
    "    image_bytes = blob.download_as_bytes()\n",
    "    \n",
    "    # Make prediction\n",
    "    prediction = endpoint.predict([{\"image_bytes\": image_bytes}])\n",
    "    print(\"Vision Model Prediction:\")\n",
    "    print(prediction)\n",
    "\n",
    "# Replace with your vision endpoint ID and test image URI\n",
    "vision_endpoint_id = \"YOUR_VISION_ENDPOINT_ID\"\n",
    "test_image_uri = f\"gs://{BUCKET_NAME}/data/test_image.jpg\"\n",
    "\n",
    "# Uncomment to test\n",
    "# test_vision_model(vision_endpoint_id, test_image_uri)"
   ]
  },
  {
   "cell_type": "markdown",
   "metadata": {},
   "source": [
    "## 4. Test Tabular Model Predictions"
   ]
  },
  {
   "cell_type": "code",
   "execution_count": null,
   "metadata": {},
   "source": [
    "def test_tabular_model(endpoint_id):\n",
    "    \"\"\"Test tabular model with sample data\"\"\"\n",
    "    endpoint = aiplatform.Endpoint(endpoint_id)\n",
    "    \n",
    "    # Create sample test data\n",
    "    test_instance = {\n",
    "        \"date\": \"2025-03-01\",\n",
    "        \"location\": \"Iowa\",\n",
    "        \"crop_type\": \"corn\",\n",
    "        \"field_size\": 4.5,\n",
    "        \"rainfall\": 700,\n",
    "        \"temperature\": 23\n",
    "    }\n",
    "    \n",
    "    # Make prediction\n",
    "    prediction = endpoint.predict([test_instance])\n",
    "    print(\"Tabular Model Prediction:\")\n",
    "    print(f\"Predicted Yield: {prediction}\")\n",
    "\n",
    "# Replace with your tabular endpoint ID\n",
    "tabular_endpoint_id = \"YOUR_TABULAR_ENDPOINT_ID\"\n",
    "\n",
    "# Uncomment to test\n",
    "# test_tabular_model(tabular_endpoint_id)"
   ]
  },
  {
   "cell_type": "markdown",
   "metadata": {},
   "source": [
    "## 5. Get Model Metrics"
   ]
  },
  {
   "cell_type": "code",
   "execution_count": null,
   "metadata": {},
   "source": [
    "def get_model_metrics(model_id):\n",
    "    \"\"\"Get evaluation metrics for a model\"\"\"\n",
    "    model = aiplatform.Model(model_id)\n",
    "    \n",
    "    print(f\"\\nMetrics for model: {model.display_name}\")\n",
    "    for metrics in model.list_model_evaluations():\n",
    "        print(f\"Evaluation ID: {metrics.name}\")\n",
    "        print(f\"Metrics: {metrics.metrics}\")\n",
    "        \n",
    "# Replace with your model IDs\n",
    "vision_model_id = \"YOUR_VISION_MODEL_ID\"\n",
    "tabular_model_id = \"YOUR_TABULAR_MODEL_ID\"\n",
    "\n",
    "# Uncomment to get metrics\n",
    "# print(\"Vision Model Metrics:\")\n",
    "# get_model_metrics(vision_model_id)\n",
    "# print(\"\\nTabular Model Metrics:\")\n",
    "# get_model_metrics(tabular_model_id)"
   ]
  }
 ],
 "metadata": {
  "kernelspec": {
   "display_name": "Python 3",
   "language": "python",
   "name": "python3"
  },
  "language_info": {
   "codemirror_mode": {
    "name": "ipython",
    "version": 3
   },
   "file_extension": ".py",
   "mimetype": "text/x-python",
   "name": "python",
   "nbconvert_exporter": "python",
   "pygments_lexer": "ipython3",
   "version": "3.9.0"
  }
 },
 "nbformat": 4,
 "nbformat_minor": 4
}
