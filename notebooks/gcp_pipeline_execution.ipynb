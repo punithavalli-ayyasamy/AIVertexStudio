{
 "cells": [
  {
   "cell_type": "markdown",
   "metadata": {},
   "source": [
    "# AgriAutoML Pipeline Execution in Vertex AI\n",
    "\n",
    "This notebook demonstrates how to execute the AgriAutoML pipeline directly in Vertex AI Studio."
   ]
  },
  {
   "cell_type": "code",
   "execution_count": null,
   "metadata": {},
   "outputs": [],
   "source": [
    "# Install required packages\n",
    "!pip install google-cloud-aiplatform kfp google-cloud-storage pandas pillow numpy"
   ]
  },
  {
   "cell_type": "code",
   "execution_count": null,
   "metadata": {},
   "outputs": [],
   "source": [
    "import os\n",
    "from google.cloud import aiplatform\n",
    "from google.cloud import storage\n",
    "from google.auth import default\n",
    "from datetime import datetime\n",
    "\n",
    "# Get default credentials and project\n",
    "credentials, project_id = default()\n",
    "\n",
    "# Configuration\n",
    "REGION = \"us-central1\"\n",
    "BUCKET_NAME = \"agrifinstorage\"\n",
    "PIPELINE_ROOT = f\"gs://{BUCKET_NAME}/pipeline_root\"\n",
    "\n",
    "# Initialize Vertex AI with default credentials\n",
    "aiplatform.init(\n",
    "    project=project_id,\n",
    "    location=REGION,\n",
    "    credentials=credentials\n",
    ")"
   ]
  },
  {
   "cell_type": "code",
   "execution_count": null,
   "metadata": {},
   "outputs": [],
   "source": [
    "def create_sample_data():\n",
    "    \"\"\"Create and upload sample datasets to GCS\"\"\"\n",
    "    storage_client = storage.Client()\n",
    "    bucket = storage_client.bucket(BUCKET_NAME)\n",
    "    \n    # Create sample CSV data\n",
    "    sample_csv = \"\"\"date,location,crop_type,field_size,rainfall,temperature,yield\n",
    "2025-01-01,Iowa,corn,5.0,750,25,150\n",
    "2025-01-15,Kansas,wheat,3.5,500,22,120\n",
    "2025-02-01,Nebraska,soybean,4.2,600,24,130\"\"\"\n",
    "    \n    # Upload tabular data\n",
    "    timestamp = datetime.now().strftime(\"%Y%m%d_%H%M%S\")\n",
    "    tabular_blob = bucket.blob(f\"data/{timestamp}/crop_data.csv\")\n",
    "    tabular_blob.upload_from_string(sample_csv)\n",
    "    \n    print(f\"Uploaded sample data to: gs://{BUCKET_NAME}/data/{timestamp}/\")\n",
    "    return f\"gs://{BUCKET_NAME}/data/{timestamp}/crop_data.csv\"\n",
    "\n",
    "# Create sample dataset\n",
    "dataset_uri = create_sample_data()\n",
    "print(f\"Dataset URI: {dataset_uri}\")"
   ]
  },
  {
   "cell_type": "code",
   "execution_count": null,
   "metadata": {},
   "outputs": [],
   "source": [
    "from kfp import dsl\n",
    "from kfp.v2 import compiler\n",
    "\n",
    "@dsl.pipeline(\n",
    "    name='AgriAutoML Pipeline',\n",
    "    description='End-to-end pipeline for agricultural yield prediction'\n",
    ")\n",
    "def agri_automl_pipeline(\n",
    "    project_id: str,\n",
    "    region: str,\n",
    "    dataset_uri: str,\n",
    "    min_accuracy: float = 0.7\n",
    "):\n",
    "    from google.cloud import aiplatform\n",
    "    \n    # Create dataset\n",
    "    dataset_create_op = aiplatform.TabularDataset.create(\n",
    "        display_name=\"crop_yield_dataset\",\n",
    "        gcs_source=[dataset_uri]\n",
    "    )\n",
    "    \n    # Train model\n",
    "    training_job = aiplatform.AutoMLTabularTrainingJob(\n",
    "        display_name=\"crop_yield_training\",\n",
    "        optimization_prediction_type=\"regression\"\n",
    "    )\n",
    "    \n    model = training_job.run(\n",
    "        dataset=dataset_create_op,\n",
    "        target_column=\"yield\",\n",
    "        budget_milli_node_hours=83.33,  # 5 minutes\n",
    "        model_display_name=\"crop_yield_model\",\n",
    "    )\n",
    "    \n    # Deploy model\n",
    "    endpoint = model.deploy(\n",
    "        machine_type=\"n1-standard-4\",\n",
    "        min_replica_count=1,\n",
    "        max_replica_count=1\n",
    "    )\n",
    "\n",
    "# Compile the pipeline\n",
    "compiler.Compiler().compile(\n",
    "    pipeline_func=agri_automl_pipeline,\n",
    "    package_path='agri_automl_pipeline.json'\n",
    ")"
   ]
  },
  {
   "cell_type": "code",
   "execution_count": null,
   "metadata": {},
   "outputs": [],
   "source": [
    "# Create and run pipeline job\n",
    "job = aiplatform.PipelineJob(\n",
    "    display_name=\"agri-automl-pipeline\",\n",
    "    template_path=\"agri_automl_pipeline.json\",\n",
    "    pipeline_root=PIPELINE_ROOT,\n",
    "    parameter_values={\n",
    "        'project_id': project_id,\n",
    "        'region': REGION,\n",
    "        'dataset_uri': dataset_uri,\n",
    "        'min_accuracy': 0.7\n",
    "    }\n",
    ")\n",
    "\n",
    "job.run(sync=True)"
   ]
  },
  {
   "cell_type": "code",
   "execution_count": null,
   "metadata": {},
   "outputs": [],
   "source": [
    "def get_prediction(instance):\n",
    "    \"\"\"Get prediction from the deployed model\"\"\"\n",
    "    endpoints = aiplatform.Endpoint.list()\n",
    "    endpoint = endpoints[0]  # Get the most recently created endpoint\n",
    "    \n    prediction = endpoint.predict([instance])\n",
    "    return prediction\n",
    "\n",
    "# Test prediction\n",
    "test_instance = {\n",
    "    'date': '2025-03-01',\n",
    "    'location': 'Iowa',\n",
    "    'crop_type': 'corn',\n",
    "    'field_size': 4.5,\n",
    "    'rainfall': 700,\n",
    "    'temperature': 23\n",
    "}\n",
    "\n",
    "prediction = get_prediction(test_instance)\n",
    "print(f\"Predicted yield: {prediction}\")"
   ]
  }
 ],
 "metadata": {
  "kernelspec": {
   "display_name": "Python 3",
   "language": "python",
   "name": "python3"
  },
  "language_info": {
   "codemirror_mode": {
    "name": "ipython",
    "version": 3
   },
   "file_extension": ".py",
   "mimetype": "text/x-python",
   "name": "python",
   "nbconvert_exporter": "python",
   "pygments_lexer": "ipython3",
   "version": "3.8.0"
  }
 },
 "nbformat": 4,
 "nbformat_minor": 4
}
