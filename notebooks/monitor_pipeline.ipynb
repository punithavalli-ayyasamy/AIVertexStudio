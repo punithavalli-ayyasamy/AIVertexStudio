{
 "cells": [
  {
   "cell_type": "markdown",
   "metadata": {},
   "source": [
    "# Monitor Vertex AI Pipeline Execution\n",
    "\n",
    "This notebook helps monitor the status of your pipeline execution."
   ]
  },
  {
   "cell_type": "code",
   "execution_count": null,
   "metadata": {},
   "outputs": [],
   "source": [
    "from google.cloud import aiplatform\n",
    "from google.auth import default\n",
    "import time\n",
    "\n",
    "# Get default credentials and project\n",
    "credentials, project_id = default()\n",
    "\n",
    "# Initialize Vertex AI\n",
    "aiplatform.init(\n",
    "    project=project_id,\n",
    "    location='us-central1',\n",
    "    credentials=credentials\n",
    ")"
   ]
  },
  {
   "cell_type": "code",
   "execution_count": null,
   "metadata": {},
   "outputs": [],
   "source": [
    "def monitor_pipeline(pipeline_job_id):\n",
    "    \"\"\"Monitor pipeline execution status and details.\"\"\"\n",
    "    job = aiplatform.PipelineJob(pipeline_job_id)\n",
    "    \n    print(f\"Pipeline Name: {job.display_name}\")\n",
    "    print(f\"State: {job.state}\")\n",
    "    print(f\"Create Time: {job.create_time}\")\n",
    "    \n    if job.state == 'PIPELINE_STATE_RUNNING':\n",
    "        print(\"\\nRunning Tasks:\")\n",
    "        for task in job.task_details:\n",
    "            if task.state == 'RUNNING':\n",
    "                print(f\"- {task.task_name}: {task.state}\")\n",
    "    \n    print(\"\\nCompleted Tasks:\")\n",
    "    for task in job.task_details:\n",
    "        if task.state == 'SUCCEEDED':\n",
    "            print(f\"- {task.task_name}: {task.state}\")\n",
    "            \n    if job.state == 'PIPELINE_STATE_FAILED':\n",
    "        print(\"\\nFailed Tasks:\")\n",
    "        for task in job.task_details:\n",
    "            if task.state == 'FAILED':\n",
    "                print(f\"- {task.task_name}: {task.error}\")\n",
    "\n",
    "def continuous_monitoring(pipeline_job_id, interval=60):\n",
    "    \"\"\"Continuously monitor pipeline until completion.\"\"\"\n",
    "    job = aiplatform.PipelineJob(pipeline_job_id)\n",
    "    \n    while job.state in ['PIPELINE_STATE_RUNNING', 'PIPELINE_STATE_PENDING']:\n",
    "        print(\"\\n\" + \"=\"*50)\n",
    "        print(f\"Status Check at {time.strftime('%Y-%m-%d %H:%M:%S')}\")\n",
    "        monitor_pipeline(pipeline_job_id)\n",
    "        time.sleep(interval)\n",
    "        job = aiplatform.PipelineJob(pipeline_job_id)\n",
    "    \n    print(\"\\nPipeline Execution Completed\")\n",
    "    print(f\"Final State: {job.state}\")\n",
    "    monitor_pipeline(pipeline_job_id)"
   ]
  },
  {
   "cell_type": "code",
   "execution_count": null,
   "metadata": {},
   "outputs": [],
   "source": [
    "# Replace with your pipeline job ID\n",
    "pipeline_job_id = \"YOUR_PIPELINE_JOB_ID\"  # You'll get this from the main execution notebook\n",
    "\n",
    "# Monitor once\n",
    "print(\"Current Pipeline Status:\")\n",
    "monitor_pipeline(pipeline_job_id)"
   ]
  },
  {
   "cell_type": "code",
   "execution_count": null,
   "metadata": {},
   "outputs": [],
   "source": [
    "# Continuous monitoring (updates every 60 seconds)\n",
    "continuous_monitoring(pipeline_job_id, interval=60)"
   ]
  }
 ],
 "metadata": {
  "kernelspec": {
   "display_name": "Python 3",
   "language": "python",
   "name": "python3"
  },
  "language_info": {
   "codemirror_mode": {
    "name": "ipython",
    "version": 3
   },
   "file_extension": ".py",
   "mimetype": "text/x-python",
   "name": "python",
   "nbconvert_exporter": "python",
   "pygments_lexer": "ipython3",
   "version": "3.8.0"
  }
 },
 "nbformat": 4,
 "nbformat_minor": 4
}
